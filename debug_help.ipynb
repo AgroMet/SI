{
 "cells": [
  {
   "cell_type": "markdown",
   "id": "320112c5",
   "metadata": {},
   "source": [
    "# Debuging and running the neuralHydrology"
   ]
  },
  {
   "cell_type": "markdown",
   "id": "a4f727dc",
   "metadata": {},
   "source": [
    "#### 1) Downlod the neuralHydrology source code"
   ]
  },
  {
   "cell_type": "markdown",
   "id": "5b432029-3361-4e58-91e9-9003fb24c3c4",
   "metadata": {},
   "source": [
    "git clone https://github.com/neuralhydrology/neuralhydrology.git"
   ]
  },
  {
   "cell_type": "markdown",
   "id": "2ead6620-9bd5-4552-8e90-4a630d6071d1",
   "metadata": {},
   "source": [
    "#### 2) Install it:\n",
    "\n",
    "cd neuralhydrology\n",
    "\n",
    "pip install -e ."
   ]
  },
  {
   "cell_type": "markdown",
   "id": "db27df11-12c8-47a5-ae32-164a70471b47",
   "metadata": {},
   "source": [
    "#### 3) Debug errors: "
   ]
  },
  {
   "cell_type": "markdown",
   "id": "09c155e6-6d88-4cbb-aa6e-7a2d85007d4d",
   "metadata": {},
   "source": [
    "--- \n",
    "##### error 1: Torch not compiled with CUDA enabled \n",
    " To fix it, find the folowing lines in the .ylm config file modify it as below to run the neuralhydrology using CPU\n",
    "\n",
    "`# which GPU (id) to use [in format of cuda:0, cuda:1 etc, or cpu or None]`\n",
    "\n",
    "device: cuda:0\n",
    "        \n",
    "#### change it to:\n",
    "device: cpu"
   ]
  },
  {
   "cell_type": "markdown",
   "id": "f9794bfa-f15b-45a2-a763-8201dc1bc4e8",
   "metadata": {},
   "source": [
    "--- \n",
    "\n",
    "##### error 2: /data/Hydrology/CAMELS_US/basin_mean_forcing/maurer_extended does not exist\n",
    "\n",
    "To fix this error, find the following line and midify the data directory in the .ylm file:\n",
    "\n",
    "`# Path to data set root`\n",
    "\n",
    "data_dir: /data/Hydrology/CAMELS_US\n",
    "\n",
    "#### Change this to:\n",
    "\n",
    "data_dir: /Volumes/Data/CAMELS/basin_timeseries_v1p2_metForcing_obsFlow/basin_dataset_public_v1p2\n"
   ]
  },
  {
   "cell_type": "markdown",
   "id": "9c705500-9a6c-431f-a904-d89c24deb921",
   "metadata": {},
   "source": [
    "--- \n",
    "\n",
    "##### error 3:\n",
    "\n",
    "/Volumes/Data/CAMELS/basin_timeseries_v1p2_metForcing_obsFlow/basin_dataset_public_v1p2/basin_mean_forcing/maurer_extended does not exist\n",
    "\n",
    "To fix this error find the following lines, and edit the forcings directory name:\n",
    "\n",
    "`# Forcing product [daymet, maurer, maurer_extended, nldas, nldas_extended, nldas_hourly]`\n",
    "\n",
    "`# can be either a list of forcings or a single forcing product`\n",
    "\n",
    "forcings:\n",
    "\n",
    "`- maurer_extended`\n",
    "\n",
    "`- daymet`\n",
    "\n",
    "`- nldas_extended`\n",
    "\n",
    "\n",
    "#### Edit these lines as:\n",
    "\n",
    "`- maurer`\n",
    "\n",
    "`- daymet`\n",
    "\n",
    "`- nldas`"
   ]
  },
  {
   "cell_type": "markdown",
   "id": "c29f1ce9-4f37-4429-a8dc-3e95baef4754",
   "metadata": {},
   "source": [
    "--- \n",
    "\n",
    "##### error 4:\n",
    "\n",
    "`KeyError: \"['srad(W/m2)_maurer_extended', 'PRCP(mm/day)_nldas_extended', 'SRAD(W/m2)_nldas_extended', 'prcp(mm/day)_maurer_extended', 'tmax(C)_maurer_extended', 'Tmin(C)_nldas_extended', 'tmin(C)_maurer_extended', 'Vp(Pa)_nldas_extended', 'vp(Pa)_maurer_extended', 'Tmax(C)_nldas_extended'] not in index\"`"
   ]
  },
  {
   "cell_type": "markdown",
   "id": "5ef51935-802d-480c-88e5-aac79ffad38e",
   "metadata": {},
   "source": [
    "To fix this error, find dynamic_inputs and midify the following lines and remove _extended at the end of each line:\n",
    "    \n",
    "dynamic_inputs: \n",
    "\n",
    "`- PRCP(mm/day)_nldas_extended`\n",
    "\n",
    "`- SRAD(W/m2)_nldas_extended`\n",
    "\n",
    "`- Tmax(C)_nldas_extended`\n",
    "\n",
    "`- Tmin(C)_nldas_extended`\n",
    "\n",
    "`- Vp(Pa)_nldas_extended`\n",
    "\n",
    "`- prcp(mm/day)_maurer_extended`\n",
    "\n",
    "`- srad(W/m2)_maurer_extended`\n",
    "\n",
    "`- tmax(C)_maurer_extended`\n",
    "\n",
    "`- tmin(C)_maurer_extended`\n",
    "\n",
    "`- vp(Pa)_maurer_extended`\n"
   ]
  },
  {
   "cell_type": "markdown",
   "id": "cbf4df63-75dc-46a9-ab7e-b04b1cef67c1",
   "metadata": {},
   "source": [
    "--- \n",
    "\n",
    "##### error 5:\n",
    "\n",
    "`KeyError: \"['srad(W/m2)_maurer', 'tmax(C)_maurer', 'vp(Pa)_maurer', 'prcp(mm/day)_maurer', 'tmin(C)_maurer'] not in index\"`\n",
    "\n",
    "To fix, edit the variable names and use capital characters:\n",
    "    \n",
    "`- PRCP(mm/day)_maurer`\n",
    "\n",
    "`- SRAD(W/m2)_maurer`\n",
    "\n",
    "`- Tmax(C)_maurer`\n",
    "\n",
    "`- Tmin(C)_maurer`\n",
    "\n",
    "`- Vp(Pa)_maurer`"
   ]
  },
  {
   "cell_type": "markdown",
   "id": "48dbdef4-963a-429a-b5f0-08c3e1f0f399",
   "metadata": {},
   "source": [
    "--- \n",
    "\n",
    "##### error 6: \n",
    "\n",
    "`FileNotFoundError: /home/frederik/Projects/neuralhydrology/examples/01-Introduction/runs/test_run_0510_125252/config.yml`\n",
    " \n",
    "To fix this error, find the following line in the 01-Intorduction/Introduction.jpynb and \n",
    "\n",
    "`### Evaluate run on test set`\n",
    "\n",
    "run_dir = Path(\"/home/frederik/Projects/neuralhydrology/examples/01-Introduction/runs/test_run_0510_125252\")\n",
    "\n",
    "eval_run(run_dir=run_dir, period=\"test\")\n",
    "\n",
    "edit it based on the last temporaty file that has created at the /01-Introduction/runs/directory like: test_run_XXXX_XXXXXX\n",
    "run_dir = Path(\"runs/test_run_1606_111311\")\n"
   ]
  },
  {
   "cell_type": "markdown",
   "id": "318a39c5-d5c3-4dc8-81ae-ab628354a9d6",
   "metadata": {},
   "source": [
    "---\n",
    "\n",
    "## 4) Force the neuralHydrology to use specific data source:\n",
    "\n",
    "In the .yml file, the  \"forcings:\" define the data source\n",
    "\n",
    "forcings:\n",
    "\n",
    "`- maurer`\n",
    "\n",
    "`- daymet`\n",
    "\n",
    "`- nldas`\n",
    "\n",
    "To limit the forcings we can comment each of them, and then comment the variable names which are defined under \"dynamic_inputs:\"\n",
    "\n",
    "Example: \n",
    "To use the precipitation forcing from the NLDAS and other forcings from daymet comment the forcings and variables as below:\n",
    "\n",
    "forcings:\n",
    "\n",
    "`# - maurer`\n",
    "\n",
    "`- daymet`\n",
    "\n",
    "`- nldas`\n",
    "\n",
    "dynamic_inputs:\n",
    "\n",
    "`- PRCP(mm/day)_nldas'\n",
    "\n",
    "`#- SRAD(W/m2)_nldas'\n",
    "\n",
    "`#- Tmax(C)_nldas'\n",
    "\n",
    "`#- Tmin(C)_nldas'\n",
    "\n",
    "`#- Vp(Pa)_nldas'\n",
    "\n",
    "`#- PRCP(mm/day)_maurer'\n",
    "\n",
    "`#- SRAD(W/m2)_maurer'\n",
    "\n",
    "`#- Tmax(C)_maurer'\n",
    "\n",
    "`#- Tmin(C)_maurer'\n",
    "\n",
    "`#- Vp(Pa)_maurer'\n",
    "\n",
    "`#- prcp(mm/day)_daymet'\n",
    "\n",
    "`- srad(W/m2)_daymet'\n",
    "\n",
    "`- tmax(C)_daymet'\n",
    "\n",
    "`- tmin(C)_daymet'\n",
    "\n",
    "`- vp(Pa)_daymet'\n",
    "\n",
    "\n"
   ]
  },
  {
   "cell_type": "code",
   "execution_count": null,
   "id": "acc958fb-31d2-47d7-9a67-67431fff3cb3",
   "metadata": {},
   "outputs": [],
   "source": [
    "# Questions:\n",
    "\n",
    "What is batch_size is the .ylm file\n",
    "\n",
    "In the nh_run.py line 9 ... "
   ]
  }
 ],
 "metadata": {
  "kernelspec": {
   "display_name": "Python 3",
   "language": "python",
   "name": "python3"
  },
  "language_info": {
   "codemirror_mode": {
    "name": "ipython",
    "version": 3
   },
   "file_extension": ".py",
   "mimetype": "text/x-python",
   "name": "python",
   "nbconvert_exporter": "python",
   "pygments_lexer": "ipython3",
   "version": "3.7.10"
  }
 },
 "nbformat": 4,
 "nbformat_minor": 5
}
